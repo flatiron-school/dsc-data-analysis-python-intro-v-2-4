{
 "cells": [
  {
   "cell_type": "markdown",
   "metadata": {
    "index": 0,
    "solution": false
   },
   "source": [
    "# Data Analysis in Base Python - Introduction"
   ]
  },
  {
   "cell_type": "markdown",
   "metadata": {
    "index": 1,
    "solution": false
   },
   "source": [
    "In this section, you'll continue solidifying your knowledge of Python programming, descriptive statistics, and data visualization by performing key data analysis tasks. You will learn how to load data from CSV and JSON files into Python objects in memory, and wrap up with an analysis that joins together two datasets.\n",
    "\n",
    "## Lesson Priorities\n",
    "### 1st Priority\n",
    "\n",
    "If you are short on time, be sure to make it through these items:\n",
    "- File Input and Output in Python\n",
    "- CSV\n",
    "- JSON\n",
    "- Data Serialization Formats - Cumulative Lab\n",
    "> Note: If you can't yet see the cumulative lab, don't worry.  It may not be visible until a pair programming session led by your instructor.\n",
    "\n",
    "### 2nd Priority\n",
    "- JSON - Lab: \n",
    ">Good additional practice with key/value pairs, accessing a list by index values, and for loops.\n",
    "- Working with Known JSON Schemas\n",
    "- Working with Known JSON Schemas - Lab\n",
    "\n",
    "### Appendix\n",
    "\n",
    "Once you are familiar with file input/output in Python, CSV's, and JSONs, move on to the appendix.  \n",
    "\n",
    "In it you will find even another opportunity to practice JSON's in the **Exploring and Transforming JSON Schemas** lesson/lab pair.  \n",
    "\n",
    "You will also find a lesson/lab pair that goes into more detail about XML. XML is less important than JSON to the scope of the program, but important to know about for webscraping and general familiarity with common data structures.\n",
    "\n",
    "## Base Python\n",
    "\n",
    "When we say \"base Python\", this means that we are emphasizing the data types and modules that are part of Python itself, rather than using third-party libraries. For much of this course, you will use numerous Python libraries such as `pandas` and StatsModels, but first we want to dig into how data analysis tasks can be performed without them.\n",
    "\n",
    "### Python Data Types and Control Structures\n",
    "\n",
    "In this section, our data is stored in data structures that are built into the Python language: numbers, strings, lists, dictionaries, etc. For example, if we have this table of data:\n",
    "\n",
    "| color  | number |\n",
    "| ------ | ------ |\n",
    "| green  | 7      |\n",
    "| red    | 2      |\n",
    "| orange | 1      |\n",
    "\n",
    "A standard way we might represent that table would be a list of dictionaries, where each dictionary represents a row and has the keys `color` and `number`:"
   ]
  },
  {
   "cell_type": "markdown",
   "metadata": {
    "index": 3,
    "solution": false
   },
   "source": [
    "Then if we wanted to print out all of the values associated with the `color` keys, the logic would look something like this:"
   ]
  },
  {
   "cell_type": "markdown",
   "metadata": {
    "index": 5,
    "solution": false
   },
   "source": [
    "In later sections of this course, that same task (printing the list of colors) might look something like this, using the `pandas` library:"
   ]
  },
  {
   "cell_type": "markdown",
   "metadata": {
    "index": 8,
    "solution": false
   },
   "source": [
    "In the base Python example, we had a variable `info_table` which was type `list` (a built-in Python type), whereas in the pandas example, we had a variable `df` which was type `pandas.core.frame.DataFrame` (a custom type from the pandas library).\n",
    "\n",
    "Then to print out the colors, in the base Python example we had a `for` loop and then code to extract the information from each individual dictionary. The string values got printed out without any additional markup. Then in the pandas example we did not have to use a loop (hint: this is *broadcasting* like we saw previously with NumPy) and also we had some extra markup where it printed out the index values as well as `Name: color, dtype: object`.\n",
    "\n",
    "In this section you will practice performing data analysis with the first (base Python) format, before eventually learning how to use pandas instead."
   ]
  },
  {
   "cell_type": "markdown",
   "metadata": {
    "index": 9,
    "solution": false
   },
   "source": [
    "### Python Modules\n",
    "\n",
    "In addition to the data types used, we will also use built-in Python modules. These modules must be imported, but they are part of Python itself and do not require separate installation.\n",
    "\n",
    "The main modules we will focus on are `csv` ([documentation here](https://docs.python.org/3/library/csv.html)) and `json` ([documentation here](https://docs.python.org/3/library/json.html))."
   ]
  },
  {
   "cell_type": "markdown",
   "metadata": {
    "index": 11,
    "solution": false
   },
   "source": [
    "## Loading Data from Files\n",
    "\n",
    "While trivial example data structures like the one above can be declared directly in Python code, more realistic data comes in the form of a file on disk.\n",
    "\n",
    "In this section you will practice opening data files that use the CSV and JSON formats, then loading them into sensible objects using the `csv` and `json` libraries in order to perform additional analysis.\n",
    "\n",
    "### CSV Files\n",
    "\n",
    "The first major file type we will explore is CSV (comma-separated value). For example, this code loads a dataset of 5000 apple trees in an orchard, where the column `yield` represents the total pounds of apples yielded by that tree for a given year.\n",
    "\n",
    "You can think of the table as looking like this, except that it is thousands of lines long:\n",
    "\n",
    "| yield              |\n",
    "| -----------------  |\n",
    "| 39.741234289561504 |\n",
    "| 39.872054738763474 |\n",
    "| 44.33116416558151  |\n",
    "| 46.6006230827385   |\n",
    "| 40.694984210927196 |\n",
    "| 40.96981882686812  |\n",
    "\n",
    "In relatively few lines of code, we can perform some key data analysis tasks: counting, measuring central tendency, finding the maximum, and finding the minimum."
   ]
  },
  {
   "cell_type": "markdown",
   "metadata": {
    "index": 13,
    "solution": false
   },
   "source": [
    "### JSON Files\n",
    "\n",
    "The second major file type we will explore is JSON (JavaScript object notation). For example, this code loads a dataset of interactions between Twitter users, where each user is represented as a \"node\" and when one tweets at another that connection is represented as a \"link\".\n",
    "\n",
    "You can think of this data as looking like this, although this version is truncated:\n",
    "\n",
    "```\n",
    "{\n",
    "  'nodes': [\n",
    "    {'id': '347457291'},\n",
    "    {'id': '232762581'},\n",
    "    {'id': '23678636'},\n",
    "    {'id': '21278412'},\n",
    "    {'id': '222040026'},\n",
    "    {'id': '19579205'},\n",
    "    {'id': '222957350'},\n",
    "    {'id': '264013722'},\n",
    "    ...\n",
    "  ],\n",
    "  'links': [\n",
    "    {'source': '347457291', 'target': '232762581'},\n",
    "    {'source': '347457291', 'target': '119706266'},\n",
    "    {'source': '347457291', 'target': '421509544'},\n",
    "    {'source': '232762581', 'target': '222957350'},\n",
    "    {'source': '232762581', 'target': '21648607'},\n",
    "    {'source': '232762581', 'target': '155691033'},\n",
    "    {'source': '232762581', 'target': '59974294'},\n",
    "    ...\n",
    "  ]\n",
    "  ...\n",
    "}\n",
    "```\n",
    "\n",
    "In relatively few lines of code, we can count the number of users and find the users who were \"sources\" (the user initiating a tweet that tags someone else) most often and \"targets\" (the user being tagged in a tweet) most often."
   ]
  },
  {
   "cell_type": "markdown",
   "metadata": {
    "index": 15,
    "solution": false
   },
   "source": [
    "## What About NumPy and Matplotlib?\n",
    "\n",
    "You can continue using NumPy and Matplotlib as you see fit. For example, if you want to convert a base Python list into a NumPy array because it will help you perform some descriptive analysis task, that is not an issue. You will also need to use Matplotlib in the lessons ahead to create the required visualizations.\n",
    "\n",
    "The main library that you will *not* be using extensively is `pandas`, which will be introduced in a future section."
   ]
  },
  {
   "cell_type": "markdown",
   "metadata": {
    "index": 16,
    "solution": false
   },
   "source": [
    "## Summary\n",
    "\n",
    "In this section you will learn how to load and manipulate CSV and JSON datasets using base Python. This means that we will mainly be using the data structures and modules built into Python, rather than third-party libraries. We also walked through some examples of the kinds of analysis you will be able to perform by the end of this section."
   ]
  }
 ],
 "metadata": {
  "kernelspec": {
   "display_name": "learn-env",
   "language": "python",
   "name": "learn-env"
  },
  "language_info": {
   "codemirror_mode": {
    "name": "ipython",
    "version": 3
   },
   "file_extension": ".py",
   "mimetype": "text/x-python",
   "name": "python",
   "nbconvert_exporter": "python",
   "pygments_lexer": "ipython3",
   "version": "3.7.3"
  }
 },
 "nbformat": 4,
 "nbformat_minor": 4
}
